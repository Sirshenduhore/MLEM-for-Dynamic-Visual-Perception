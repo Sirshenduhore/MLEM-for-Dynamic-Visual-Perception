pip install deepface

% Navigate to the folder where videos are stored

cd '/content/drive/MyDrive/MultiModal/4th/Video/'


import cv2
import matplotlib.pyplot as plt
from deepface import DeepFace
from deepface.detectors import FaceDetector
from google.colab.patches import cv2_imshow
import numpy as np

def calculateAvgEmotion(emotions):
	total_frames=sum(emotions.values())
	for key,value in emotions.items():
		percent=value*100.0/total_frames
		ans="\n{}:\tPercentage:{}%\n"
		print(ans.format(key,round(percent,2)))
	print(total_frames)


models = ["VGG-Face","Facenet","DeepFace"]
backends = ['opencv']
emotions={"angry":0,"calm":0,"happy":0,"neutral":0,"sad":0,"surprise":0,"fear":0,"disgust":0}
label =[]
cap = cv2.VideoCapture("Face67.mp4")
property_id = int(cv2.CAP_PROP_FRAME_COUNT)
length = int(cv2.VideoCapture.get(cap, property_id))
print( length )
Chk_length=0
model=DeepFace.build_model(models[1])
while True:
  ret,frame=cap.read()
  cv2_imshow(frame * 255)
  try:
      result= DeepFace.analyze(frame,actions = ['emotion'], detector_backend = backends[0])
      label=result['dominant_emotion']
      emotions[label]+=1

  except Exception:
        label="No Face"
        print('No Face');
        Chk_length=Chk_length+1
  if cv2.waitKey(1) & 0xFF ==ord('q'):
      break
  if Chk_length>=length *.98:
        break
  else:
      Chk_length=Chk_length+1

  print(label + str(Chk_length))

calculateAvgEmotion(emotions)
cap.release()
cv2.destroyAllWindows()

pip install pydub


from pydub import AudioSegment
import math
import os
class SplitWavAudioMubin():
    def __init__(self, folder, filename):
        self.folder = folder
        self.filename = filename
        self.filepath = folder + '/' + filename
        self.audio = AudioSegment.from_wav(self.filepath)

    def get_duration(self):
        return self.audio.duration_seconds

    def single_split(self, from_min, to_min, split_filename):
        t1 = from_min * 1 * 1000
        t2 = to_min * 1 * 1000
        split_audio = self.audio[t1:t2]
        split_audio.export(self.folder+ split_filename, format="wav")

    def multiple_split(self, min_per_split):
        total_mins = math.ceil(self.get_duration() )
        for i in range(0, total_mins, min_per_split):
            split_fn = str(i) + '_' + self.filename
            self.single_split(i, i+min_per_split, split_fn)
            print(str(i) + ' Done')
            if i == total_mins - min_per_split:
                print('All splited successfully')

folder = '/content/drive/MyDrive/Testing'

print(folder)
file = 'Renate Female.wav'

split_wav = SplitWavAudioMubin(folder, file)
print(split_wav)
split_wav.multiple_split(min_per_split=4)
